{
 "cells": [
  {
   "cell_type": "markdown",
   "id": "classified-boards",
   "metadata": {},
   "source": [
    "# Section 05 - Function Parameters"
   ]
  },
  {
   "cell_type": "markdown",
   "id": "optimum-quantum",
   "metadata": {},
   "source": [
    "## Introduction"
   ]
  },
  {
   "cell_type": "markdown",
   "id": "impaired-indie",
   "metadata": {},
   "source": [
    "## Argument vs Parameter"
   ]
  },
  {
   "cell_type": "markdown",
   "id": "exterior-overhead",
   "metadata": {},
   "source": [
    "## Positional and Keyword Arguments"
   ]
  },
  {
   "cell_type": "markdown",
   "id": "mysterious-meter",
   "metadata": {},
   "source": [
    "If a positional parameter is defined with a default value **every** positional parameter after it **must** also be given a default value\n",
    "\n",
    "But once you use a named argument, all arguments **thereafter must** be named too"
   ]
  },
  {
   "cell_type": "markdown",
   "id": "together-pickup",
   "metadata": {},
   "source": [
    "## Unpacking Iterables"
   ]
  },
  {
   "cell_type": "markdown",
   "id": "correct-surfing",
   "metadata": {},
   "source": [
    "What defines a tuple in Python, is not `()`, but `,`\n",
    "\n",
    "The `()` are used to make the tuple clearer"
   ]
  },
  {
   "cell_type": "code",
   "execution_count": null,
   "id": "dental-composer",
   "metadata": {},
   "outputs": [],
   "source": []
  },
  {
   "cell_type": "markdown",
   "id": "adjacent-program",
   "metadata": {},
   "source": [
    "## Extended Unpacking"
   ]
  },
  {
   "cell_type": "markdown",
   "id": "parallel-candidate",
   "metadata": {},
   "source": [
    "`*` operator"
   ]
  },
  {
   "cell_type": "markdown",
   "id": "described-coordinate",
   "metadata": {},
   "source": [
    "`**` operator"
   ]
  },
  {
   "cell_type": "markdown",
   "id": "caroline-structure",
   "metadata": {},
   "source": [
    "## `*args`"
   ]
  },
  {
   "cell_type": "markdown",
   "id": "disciplinary-advocate",
   "metadata": {},
   "source": [
    "## Keyword Arguments"
   ]
  },
  {
   "cell_type": "markdown",
   "id": "ready-infrastructure",
   "metadata": {},
   "source": [
    "## `**kwargs`"
   ]
  },
  {
   "cell_type": "markdown",
   "id": "metric-garbage",
   "metadata": {},
   "source": [
    "## Putting it all Together"
   ]
  },
  {
   "cell_type": "markdown",
   "id": "cutting-isaac",
   "metadata": {},
   "source": [
    "## Application: A Simple Function Timer"
   ]
  },
  {
   "cell_type": "markdown",
   "id": "sticky-population",
   "metadata": {},
   "source": [
    "## Parameter Defaults - Beware!!\n",
    "immutable default values"
   ]
  },
  {
   "cell_type": "code",
   "execution_count": null,
   "id": "mexican-angel",
   "metadata": {},
   "outputs": [],
   "source": []
  },
  {
   "cell_type": "markdown",
   "id": "speaking-arbitration",
   "metadata": {},
   "source": [
    "## Parameter Defaults - Beware Again!!\n",
    "mutable default values"
   ]
  },
  {
   "cell_type": "code",
   "execution_count": null,
   "id": "popular-lyric",
   "metadata": {},
   "outputs": [],
   "source": []
  }
 ],
 "metadata": {
  "kernelspec": {
   "display_name": "Python 3",
   "language": "python",
   "name": "python3"
  },
  "language_info": {
   "codemirror_mode": {
    "name": "ipython",
    "version": 3
   },
   "file_extension": ".py",
   "mimetype": "text/x-python",
   "name": "python",
   "nbconvert_exporter": "python",
   "pygments_lexer": "ipython3",
   "version": "3.8.8"
  },
  "toc": {
   "base_numbering": 1,
   "nav_menu": {},
   "number_sections": true,
   "sideBar": true,
   "skip_h1_title": false,
   "title_cell": "Table of Contents",
   "title_sidebar": "Contents",
   "toc_cell": false,
   "toc_position": {},
   "toc_section_display": true,
   "toc_window_display": false
  }
 },
 "nbformat": 4,
 "nbformat_minor": 5
}
