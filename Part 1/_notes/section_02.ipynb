{
 "cells": [
  {
   "cell_type": "markdown",
   "metadata": {},
   "source": [
    "# Section 02 - A Quick Refresher"
   ]
  },
  {
   "cell_type": "markdown",
   "metadata": {},
   "source": [
    "## Introduction"
   ]
  },
  {
   "cell_type": "code",
   "execution_count": 1,
   "metadata": {
    "ExecuteTime": {
     "end_time": "2021-04-01T15:53:42.898315Z",
     "start_time": "2021-04-01T15:53:42.889620Z"
    }
   },
   "outputs": [
    {
     "name": "stdout",
     "output_type": "stream",
     "text": [
      "A Quick Refresher\n"
     ]
    }
   ],
   "source": [
    "print('A Quick Refresher')"
   ]
  },
  {
   "cell_type": "markdown",
   "metadata": {},
   "source": [
    "## The Python Type Hierarchy"
   ]
  },
  {
   "cell_type": "markdown",
   "metadata": {},
   "source": [
    "### Numbers\n",
    "#### Integrals\n",
    "\n",
    "* Integers\n",
    "* Booleans\n",
    "\n",
    "#### Non-Integral\n",
    "\n",
    "* Floats\n",
    "* Complex\n",
    "* Decimals\n",
    "* Fractions"
   ]
  },
  {
   "cell_type": "markdown",
   "metadata": {},
   "source": [
    "### Sequences\n",
    "#### Mutable\n",
    "\n",
    "* Lists\n",
    "\n",
    "#### Immutable\n",
    "\n",
    "* Tuples\n",
    "* Strings"
   ]
  },
  {
   "cell_type": "markdown",
   "metadata": {},
   "source": [
    "### Sets\n",
    "#### Mutable\n",
    "\n",
    "* Sets\n",
    "\n",
    "#### Immutable\n",
    "\n",
    "* Frozen Sets"
   ]
  },
  {
   "cell_type": "markdown",
   "metadata": {},
   "source": [
    "### Mappings\n",
    "#### Dictionaries"
   ]
  },
  {
   "cell_type": "markdown",
   "metadata": {},
   "source": [
    "### Callables\n",
    "anything you can invoke, call\n",
    "\n",
    "#### Functions\n",
    "#### Generators\n",
    "#### Classes\n",
    "#### Instance Methods (inside class)\n",
    "#### Class innstances (`__call__()` - allows class to become  callable)\n",
    "#### Built-In Functions (`len()`, `open()`), \n",
    "#### Built-In Methods (`my_list.append(x)`)"
   ]
  },
  {
   "cell_type": "markdown",
   "metadata": {},
   "source": [
    "### Singletons\n",
    "\n",
    "#### None - points back to same memory address\n",
    "#### NotImplemented - this will be in oop\n",
    "#### Elipsis (`...`) - for strings and lists slicing"
   ]
  },
  {
   "cell_type": "markdown",
   "metadata": {},
   "source": [
    "## Multi-Line Statements and Strings\n",
    "\n",
    "**physical** newline vs **logical** newline"
   ]
  },
  {
   "cell_type": "markdown",
   "metadata": {},
   "source": [
    "### Implicit\n",
    "\n",
    "- list literals: `[]`\n",
    "- tuple literals: `()`\n",
    "- dictinary literals: `{}`\n",
    "- set literals: `{}`\n",
    "- function arguments / parameters\n",
    "\n",
    "supports inline comments"
   ]
  },
  {
   "cell_type": "code",
   "execution_count": 2,
   "metadata": {
    "ExecuteTime": {
     "end_time": "2021-04-01T15:53:42.933878Z",
     "start_time": "2021-04-01T15:53:42.900903Z"
    }
   },
   "outputs": [],
   "source": [
    "a = [1, \n",
    "    2, \n",
    "    3]"
   ]
  },
  {
   "cell_type": "code",
   "execution_count": 3,
   "metadata": {
    "ExecuteTime": {
     "end_time": "2021-04-01T15:53:42.940852Z",
     "start_time": "2021-04-01T15:53:42.937563Z"
    }
   },
   "outputs": [],
   "source": [
    "a = [1, #first element\n",
    "    2, #second element\n",
    "    3, #third element\n",
    "    ]"
   ]
  },
  {
   "cell_type": "code",
   "execution_count": 4,
   "metadata": {
    "ExecuteTime": {
     "end_time": "2021-04-01T15:53:42.948336Z",
     "start_time": "2021-04-01T15:53:42.943485Z"
    }
   },
   "outputs": [
    {
     "ename": "SyntaxError",
     "evalue": "unexpected EOF while parsing (<ipython-input-4-6b11c8b986e4>, line 2)",
     "output_type": "error",
     "traceback": [
      "\u001b[0;36m  File \u001b[0;32m\"<ipython-input-4-6b11c8b986e4>\"\u001b[0;36m, line \u001b[0;32m2\u001b[0m\n\u001b[0;31m    2 #second element]\u001b[0m\n\u001b[0m                      ^\u001b[0m\n\u001b[0;31mSyntaxError\u001b[0m\u001b[0;31m:\u001b[0m unexpected EOF while parsing\n"
     ]
    }
   ],
   "source": [
    "a = [1, # first element\n",
    "    2 #second element]"
   ]
  },
  {
   "cell_type": "code",
   "execution_count": null,
   "metadata": {
    "ExecuteTime": {
     "end_time": "2021-04-01T15:53:42.951534Z",
     "start_time": "2021-04-01T15:53:42.900Z"
    }
   },
   "outputs": [],
   "source": [
    "def my_func(a, #some comment\n",
    "           b, c):\n",
    "    print(a, b, c)"
   ]
  },
  {
   "cell_type": "markdown",
   "metadata": {},
   "source": [
    "### Explicit\n",
    "use the `\\` character to explicitly create multi-line statements"
   ]
  },
  {
   "cell_type": "code",
   "execution_count": null,
   "metadata": {
    "ExecuteTime": {
     "end_time": "2021-04-01T15:53:42.953021Z",
     "start_time": "2021-04-01T15:53:42.904Z"
    }
   },
   "outputs": [],
   "source": [
    "a = 10\n",
    "b = 20\n",
    "c = 30\n",
    "if a > 5 \\\n",
    "    and b > 10 \\\n",
    "    and c > 20:\n",
    "    print('yes!!')"
   ]
  },
  {
   "cell_type": "markdown",
   "metadata": {},
   "source": [
    "### Multi-Line Strings"
   ]
  },
  {
   "cell_type": "code",
   "execution_count": 1,
   "metadata": {
    "ExecuteTime": {
     "end_time": "2021-04-01T17:26:12.576844Z",
     "start_time": "2021-04-01T17:26:12.552602Z"
    }
   },
   "outputs": [],
   "source": [
    "a = '''this is\n",
    "    a multi-line string'''"
   ]
  },
  {
   "cell_type": "code",
   "execution_count": 2,
   "metadata": {
    "ExecuteTime": {
     "end_time": "2021-04-01T17:26:13.128970Z",
     "start_time": "2021-04-01T17:26:13.098869Z"
    }
   },
   "outputs": [
    {
     "name": "stdout",
     "output_type": "stream",
     "text": [
      "this is\n",
      "    a multi-line string\n"
     ]
    }
   ],
   "source": [
    "print(a)"
   ]
  },
  {
   "cell_type": "markdown",
   "metadata": {},
   "source": [
    "Note that these multi-line strings are **not** comments - they are real strings and, unlike comments, are part of your compiled code. They are however sometimes used to create comments, such as `docstrings`, that we will cover later in this course."
   ]
  },
  {
   "cell_type": "markdown",
   "metadata": {},
   "source": [
    "## Variable Names\n",
    "\n",
    "**must** follow certain rules\n",
    "\n",
    "**should** follow certain conventions"
   ]
  },
  {
   "cell_type": "markdown",
   "metadata": {},
   "source": [
    "### Identifiers\n",
    "\n",
    "are **case-sensitive**\n",
    "\n",
    "**Must** \n",
    "\n",
    "* **start** with underscore (`_`) or letter (`a-z A-Z`)\n",
    "* **followed** by any number of underscores (`_`), letter (`a-z A-Z`), or digits(`0-9`)\n",
    "* **cannot** be reserved words"
   ]
  },
  {
   "cell_type": "markdown",
   "metadata": {},
   "source": [
    "There is no concept of **private** in Python, but by a **convention** starting with single underscore `_` means **\"internal use\"** or **\"private\"**\n",
    "\n",
    "`from module import *` won't import such identifiers\n",
    "\n",
    "`_my_var`\n",
    "\n",
    "starting with double underscore `__` is used to \"mangle\" class atributes, useful in inheritance\n",
    "`__my_var`\n",
    "\n",
    "start and end with double underscore (`__`)\n",
    "\n",
    "`__my_var__` - used for system-defined names that have a special meaning to the interpreter\n",
    "\n",
    "`x < y` runs `x.__lt__(y)`"
   ]
  },
  {
   "cell_type": "markdown",
   "metadata": {},
   "source": [
    "[PEP 8](https://www.python.org/dev/peps/pep-0008/)"
   ]
  },
  {
   "cell_type": "markdown",
   "metadata": {},
   "source": [
    "## Conditionals"
   ]
  },
  {
   "cell_type": "markdown",
   "metadata": {},
   "source": [
    "### If-Else"
   ]
  },
  {
   "cell_type": "code",
   "execution_count": null,
   "metadata": {
    "ExecuteTime": {
     "end_time": "2021-04-01T15:53:42.957095Z",
     "start_time": "2021-04-01T15:53:42.914Z"
    }
   },
   "outputs": [],
   "source": [
    "a = 15\n",
    "\n",
    "if a < 5:\n",
    "    print('a < 5')\n",
    "else:\n",
    "    if a < 10:\n",
    "        print('5 <= a < 10')\n",
    "    else:\n",
    "        print('a >= 10')"
   ]
  },
  {
   "cell_type": "code",
   "execution_count": null,
   "metadata": {
    "ExecuteTime": {
     "end_time": "2021-04-01T15:53:42.958373Z",
     "start_time": "2021-04-01T15:53:42.917Z"
    }
   },
   "outputs": [],
   "source": [
    "a = 15\n",
    "if a < 5:\n",
    "    print('a < 5')\n",
    "elif a < 10:\n",
    "    print('5 <= a < 10')\n",
    "else:\n",
    "    print('a >= 10')"
   ]
  },
  {
   "cell_type": "markdown",
   "metadata": {},
   "source": [
    "### Ternary Operator"
   ]
  },
  {
   "cell_type": "code",
   "execution_count": 4,
   "metadata": {
    "ExecuteTime": {
     "end_time": "2021-04-01T17:31:42.032041Z",
     "start_time": "2021-04-01T17:31:42.027970Z"
    }
   },
   "outputs": [
    {
     "name": "stdout",
     "output_type": "stream",
     "text": [
      "a >= 10\n"
     ]
    }
   ],
   "source": [
    "a = 15\n",
    "res = 'a < 10' if a < 10 else 'a >= 10'\n",
    "print(res)"
   ]
  },
  {
   "cell_type": "code",
   "execution_count": 5,
   "metadata": {
    "ExecuteTime": {
     "end_time": "2021-04-01T17:32:10.520793Z",
     "start_time": "2021-04-01T17:32:10.511474Z"
    }
   },
   "outputs": [],
   "source": [
    "def say_hello():\n",
    "    print('Hello!')\n",
    "    \n",
    "def say_goodbye():\n",
    "    print('Goodbye!')"
   ]
  },
  {
   "cell_type": "code",
   "execution_count": 6,
   "metadata": {
    "ExecuteTime": {
     "end_time": "2021-04-01T17:32:10.951010Z",
     "start_time": "2021-04-01T17:32:10.944939Z"
    }
   },
   "outputs": [
    {
     "name": "stdout",
     "output_type": "stream",
     "text": [
      "Hello!\n"
     ]
    }
   ],
   "source": [
    "a = 5\n",
    "say_hello() if a < 10 else say_goodbye()"
   ]
  },
  {
   "cell_type": "markdown",
   "metadata": {},
   "source": [
    "## Functions\n",
    "### Define\n",
    "```python\n",
    "def func_1():\n",
    "    print('running func_1')\n",
    "```\n",
    "\n",
    "`func_1` without `()` prints out function object details\n",
    "\n",
    "```python\n",
    "def func_2(a: int, b: int):\n",
    "    return a * b\n",
    "```\n",
    "\n"
   ]
  },
  {
   "cell_type": "markdown",
   "metadata": {},
   "source": [
    "## The While Loop\n",
    "there is no \"do-while\" in Python."
   ]
  },
  {
   "cell_type": "markdown",
   "metadata": {},
   "source": [
    "### `break` statement\n",
    "\n",
    "```python\n",
    "while True:\n",
    "    # code block\n",
    "    # if condition:\n",
    "    #     break\n",
    "```\n",
    "It's never a good idea to type code twice"
   ]
  },
  {
   "cell_type": "markdown",
   "metadata": {},
   "source": [
    "### `continue` statement"
   ]
  },
  {
   "cell_type": "markdown",
   "metadata": {},
   "source": [
    "### `else` clause\n",
    "runs if there was no `break` statement~"
   ]
  },
  {
   "cell_type": "markdown",
   "metadata": {},
   "source": [
    "## Break, Continue and the Try Statement\n",
    "### try-except-finally\n",
    "```python\n",
    "a = 0\n",
    "b = 2\n",
    "\n",
    "while a < 3:\n",
    "    print('-------------')\n",
    "    a += 1\n",
    "    b -= 1\n",
    "    try:\n",
    "        res = a / b\n",
    "    except ZeroDivisionError:\n",
    "        print('{0}, {1} - division by 0'.format(a, b))\n",
    "        res = 0\n",
    "        continue\n",
    "    finally:\n",
    "        print('{0}, {1} - always executes'.format(a, b))\n",
    "        \n",
    "    print('{0}, {1} - main loop'.format(a, b))\n",
    "```\n",
    "\n",
    "```\n",
    "-------------\n",
    "1, 1 - always executes\n",
    "1, 1 - main loop\n",
    "-------------\n",
    "2, 0 - division by 0\n",
    "2, 0 - always executes\n",
    "-------------\n",
    "3, -1 - always executes\n",
    "3, -1 - main loop\n",
    "```"
   ]
  },
  {
   "cell_type": "markdown",
   "metadata": {},
   "source": [
    "## The For Loop\n",
    "`for (int i=0; i < 5; i++) { //code block}`\n",
    "\n",
    "In Python an **iterable** is an object capable of returnin values one at a time."
   ]
  },
  {
   "cell_type": "markdown",
   "metadata": {},
   "source": [
    "### `range()` is iterable"
   ]
  },
  {
   "cell_type": "markdown",
   "metadata": {},
   "source": [
    "### list is iterable"
   ]
  },
  {
   "cell_type": "markdown",
   "metadata": {},
   "source": [
    "### string is iterable"
   ]
  },
  {
   "cell_type": "markdown",
   "metadata": {},
   "source": [
    "### tuple is iterable"
   ]
  },
  {
   "cell_type": "markdown",
   "metadata": {},
   "source": [
    "### `for` loop also has `else` clause"
   ]
  },
  {
   "cell_type": "markdown",
   "metadata": {},
   "source": [
    "### `enumerate` iterable"
   ]
  },
  {
   "cell_type": "markdown",
   "metadata": {},
   "source": [
    "## Classes\n",
    "`class` keyword\n",
    "\n",
    "`__init__` method, first argument should be `self` that means an instance just created\n",
    "\n",
    "instead of `self` we can use any variable name, but it will be strange\n",
    "\n",
    "\n",
    "\n",
    "`hex(id(r1))` -> `str(r1)`\n",
    "\n",
    "`__repr__` - string that shows how we  can build this object\n",
    "\n",
    "`__eq__` -> `r1 == r2`\n",
    "\n",
    "there is problem when `r1 == 100`\n",
    "\n",
    "we add `isinstance` to check\n",
    "\n",
    "`NotImplemented`\n",
    "\n",
    "`__lt__`\n",
    "\n",
    "\n",
    "when we use `>`, python implements `__gt__`\n",
    "\n",
    "if we put underscore (`_`) before attribute we encourage to use getter or setter\n",
    "\n",
    "`@property` - decorator for getter\n",
    "\n",
    "`@width.setter` - decorator for setter\n",
    "\n",
    "\n",
    "\n"
   ]
  },
  {
   "cell_type": "code",
   "execution_count": null,
   "metadata": {},
   "outputs": [],
   "source": []
  }
 ],
 "metadata": {
  "kernelspec": {
   "display_name": "Python 3",
   "language": "python",
   "name": "python3"
  },
  "language_info": {
   "codemirror_mode": {
    "name": "ipython",
    "version": 3
   },
   "file_extension": ".py",
   "mimetype": "text/x-python",
   "name": "python",
   "nbconvert_exporter": "python",
   "pygments_lexer": "ipython3",
   "version": "3.8.8"
  },
  "toc": {
   "base_numbering": 1,
   "nav_menu": {},
   "number_sections": true,
   "sideBar": true,
   "skip_h1_title": false,
   "title_cell": "Table of Contents",
   "title_sidebar": "Contents",
   "toc_cell": false,
   "toc_position": {},
   "toc_section_display": true,
   "toc_window_display": true
  }
 },
 "nbformat": 4,
 "nbformat_minor": 2
}
