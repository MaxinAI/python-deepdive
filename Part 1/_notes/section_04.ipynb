{
 "cells": [
  {
   "cell_type": "markdown",
   "id": "classified-boards",
   "metadata": {},
   "source": [
    "# Section 04 - Numeric Types"
   ]
  },
  {
   "cell_type": "code",
   "execution_count": 1,
   "id": "coral-share",
   "metadata": {
    "ExecuteTime": {
     "end_time": "2021-04-05T06:26:59.511467Z",
     "start_time": "2021-04-05T06:26:59.489202Z"
    }
   },
   "outputs": [],
   "source": [
    "import sys\n",
    "import time"
   ]
  },
  {
   "cell_type": "markdown",
   "id": "tribal-savannah",
   "metadata": {},
   "source": [
    "## Introduction\n",
    "\n",
    "* Boolean - `bool`\n",
    "* Integer Numbers ($\\mathbb{Z}$) - `int`\n",
    "* Rational Numbers ($\\mathbb{Q}$) - `fractions.Fraction`\n",
    "* Real Numbers ($\\mathbb{R}$) - `float`, `decimal.Decimal`\n",
    "* Complex Numbers ($\\mathbb{C}$) - `complex`\n",
    "\n",
    "$\\mathbb{Z}\\subset\\mathbb{Q}\\subset\\mathbb{R}\\subset\\mathbb{C}$"
   ]
  },
  {
   "cell_type": "code",
   "execution_count": 1,
   "id": "lyric-medicaid",
   "metadata": {
    "ExecuteTime": {
     "end_time": "2021-04-04T20:33:51.327472Z",
     "start_time": "2021-04-04T20:33:51.311843Z"
    }
   },
   "outputs": [
    {
     "name": "stdout",
     "output_type": "stream",
     "text": [
      "Numeric Types\n"
     ]
    }
   ],
   "source": [
    "print('Numeric Types')"
   ]
  },
  {
   "cell_type": "markdown",
   "id": "stuffed-browse",
   "metadata": {},
   "source": [
    "## Integers: Data Types\n",
    "\n",
    "Integers are represented internally using base-2 (binary) digits, not decimal.\n",
    "\n",
    "$(10011)_2 = (19)_{10}$\n",
    "\n",
    "Representing the decimal number 19 requires 5 bits\n",
    "\n",
    "The `int` object uses a **variable** number of bits"
   ]
  },
  {
   "cell_type": "code",
   "execution_count": 2,
   "id": "informed-backing",
   "metadata": {
    "ExecuteTime": {
     "end_time": "2021-04-05T06:27:17.907532Z",
     "start_time": "2021-04-05T06:27:17.894998Z"
    }
   },
   "outputs": [
    {
     "data": {
      "text/plain": [
       "24"
      ]
     },
     "execution_count": 2,
     "metadata": {},
     "output_type": "execute_result"
    }
   ],
   "source": [
    "sys.getsizeof(0)"
   ]
  },
  {
   "cell_type": "code",
   "execution_count": null,
   "id": "solid-credits",
   "metadata": {},
   "outputs": [],
   "source": [
    "def calc(a):\n",
    "    for i in range(10000000):\n",
    "        a * 2"
   ]
  },
  {
   "cell_type": "code",
   "execution_count": null,
   "id": "maritime-climate",
   "metadata": {},
   "outputs": [],
   "source": [
    "start = time.perf_counter()\n",
    "calc(2**100)\n",
    "end = time.perf_counter()\n",
    "print(end - start)"
   ]
  },
  {
   "cell_type": "markdown",
   "id": "confidential-living",
   "metadata": {},
   "source": [
    "## Integers: Operations"
   ]
  },
  {
   "cell_type": "markdown",
   "id": "sharp-boating",
   "metadata": {},
   "source": [
    "the standard division operator `/` **always** results in a float value."
   ]
  },
  {
   "cell_type": "code",
   "execution_count": null,
   "id": "smaller-spectacular",
   "metadata": {},
   "outputs": [],
   "source": [
    "import math"
   ]
  },
  {
   "cell_type": "markdown",
   "id": "horizontal-martin",
   "metadata": {},
   "source": [
    "`n = d * (n // d) + (n % d)`"
   ]
  },
  {
   "cell_type": "code",
   "execution_count": 1,
   "id": "sharing-sitting",
   "metadata": {
    "ExecuteTime": {
     "end_time": "2021-04-08T17:29:27.207346Z",
     "start_time": "2021-04-08T17:29:27.173359Z"
    }
   },
   "outputs": [
    {
     "name": "stdout",
     "output_type": "stream",
     "text": [
      "--- a=13, b=4 ---\n",
      "13/4 = 3.25\n",
      "13//4 = 3\n",
      "13%4 = 1\n",
      "True\n",
      "--- a=-13, b=4 ---\n",
      "-13/4 = -3.25\n",
      "-13//4 = -4\n",
      "-13%4 = 3\n",
      "True\n",
      "--- a=13, b=-4 ---\n",
      "13/-4 = -3.25\n",
      "13//-4 = -4\n",
      "13%-4 = -3\n",
      "True\n",
      "--- a=-13, b=-4 ---\n",
      "-13/-4 = 3.25\n",
      "-13//-4 = 3\n",
      "-13%-4 = -1\n",
      "True\n"
     ]
    }
   ],
   "source": [
    "\n",
    "for a, b in zip([13,-13,13,-13],[4,4,-4,-4]):\n",
    "    print('--- a={0}, b={1} ---'.format(a, b))\n",
    "    print('{0}/{1} = {2}'.format(a, b, a/b))\n",
    "    print('{0}//{1} = {2}'.format(a, b, a//b))\n",
    "    print('{0}%{1} = {2}'.format(a, b, a%b))\n",
    "    print(a == b * (a//b) + a%b)\n"
   ]
  },
  {
   "cell_type": "markdown",
   "id": "legendary-relaxation",
   "metadata": {},
   "source": [
    "## Integers: Constructors and Bases"
   ]
  },
  {
   "cell_type": "markdown",
   "id": "enclosed-picture",
   "metadata": {},
   "source": [
    "## Rational Numbers"
   ]
  },
  {
   "cell_type": "code",
   "execution_count": 1,
   "id": "twelve-majority",
   "metadata": {
    "ExecuteTime": {
     "end_time": "2021-04-06T06:02:31.467503Z",
     "start_time": "2021-04-06T06:02:31.455811Z"
    }
   },
   "outputs": [],
   "source": [
    "from fractions import Fraction"
   ]
  },
  {
   "cell_type": "markdown",
   "id": "resident-tenant",
   "metadata": {},
   "source": [
    "## Floats: Internal Representations"
   ]
  },
  {
   "cell_type": "markdown",
   "id": "verbal-quarterly",
   "metadata": {},
   "source": [
    "## Floats: Equality Testing"
   ]
  },
  {
   "cell_type": "markdown",
   "id": "overall-bikini",
   "metadata": {},
   "source": [
    "## Floats: Coercing to Integers"
   ]
  },
  {
   "cell_type": "markdown",
   "id": "atmospheric-vector",
   "metadata": {},
   "source": [
    "## Floats: Rounding"
   ]
  },
  {
   "cell_type": "markdown",
   "id": "criminal-wisconsin",
   "metadata": {},
   "source": [
    "## Decimals"
   ]
  },
  {
   "cell_type": "markdown",
   "id": "recognized-bradford",
   "metadata": {},
   "source": [
    "## Decimals: Constructors and Contexts"
   ]
  },
  {
   "cell_type": "markdown",
   "id": "designed-grant",
   "metadata": {},
   "source": [
    "## Decimals: Math Operations"
   ]
  },
  {
   "cell_type": "markdown",
   "id": "advisory-jamaica",
   "metadata": {},
   "source": [
    "## Decimals: Performance Considerations"
   ]
  },
  {
   "cell_type": "markdown",
   "id": "crazy-painting",
   "metadata": {},
   "source": [
    "## Complex Numbers"
   ]
  },
  {
   "cell_type": "markdown",
   "id": "limiting-hearing",
   "metadata": {},
   "source": [
    "## Booleans"
   ]
  },
  {
   "cell_type": "markdown",
   "id": "major-welsh",
   "metadata": {},
   "source": [
    "## Booleans: Truth Values"
   ]
  },
  {
   "cell_type": "markdown",
   "id": "opened-skiing",
   "metadata": {},
   "source": [
    "## Booleans: Precedence and Short-Circuiting"
   ]
  },
  {
   "cell_type": "markdown",
   "id": "graduate-telling",
   "metadata": {
    "ExecuteTime": {
     "end_time": "2021-04-15T10:34:01.247931Z",
     "start_time": "2021-04-15T10:34:01.239137Z"
    }
   },
   "source": [
    "```\n",
    "()\n",
    "< > <= >= == != in is \n",
    "not\n",
    "and\n",
    "or\n",
    "```"
   ]
  },
  {
   "cell_type": "markdown",
   "id": "brown-analyst",
   "metadata": {},
   "source": [
    "## Booleans: Booean Operators"
   ]
  },
  {
   "cell_type": "markdown",
   "id": "corporate-activation",
   "metadata": {},
   "source": [
    "## Comparison Operators"
   ]
  }
 ],
 "metadata": {
  "kernelspec": {
   "display_name": "Python 3",
   "language": "python",
   "name": "python3"
  },
  "language_info": {
   "codemirror_mode": {
    "name": "ipython",
    "version": 3
   },
   "file_extension": ".py",
   "mimetype": "text/x-python",
   "name": "python",
   "nbconvert_exporter": "python",
   "pygments_lexer": "ipython3",
   "version": "3.8.8"
  },
  "toc": {
   "base_numbering": 1,
   "nav_menu": {},
   "number_sections": true,
   "sideBar": true,
   "skip_h1_title": false,
   "title_cell": "Table of Contents",
   "title_sidebar": "Contents",
   "toc_cell": false,
   "toc_position": {},
   "toc_section_display": true,
   "toc_window_display": false
  }
 },
 "nbformat": 4,
 "nbformat_minor": 5
}
