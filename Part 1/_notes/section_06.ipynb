{
 "cells": [
  {
   "cell_type": "markdown",
   "id": "classified-boards",
   "metadata": {},
   "source": [
    "# Section 06 - First-Class Functions"
   ]
  },
  {
   "cell_type": "markdown",
   "id": "necessary-buffer",
   "metadata": {},
   "source": [
    "## Introduction"
   ]
  },
  {
   "cell_type": "markdown",
   "id": "respected-taste",
   "metadata": {},
   "source": [
    "## Docstrings and Annotations\n",
    "\n",
    "* docstrings are stored in the `__doc__` property of the function\n",
    "* annotations are stored in the `__annotations__` property of the function"
   ]
  },
  {
   "cell_type": "markdown",
   "id": "inside-intersection",
   "metadata": {},
   "source": [
    "## Lambda Expressions"
   ]
  },
  {
   "cell_type": "markdown",
   "id": "appropriate-round",
   "metadata": {},
   "source": [
    "## Lambdas and Sorting\n",
    "\n",
    "if two variables are equal **Python** maintains previous order"
   ]
  },
  {
   "cell_type": "markdown",
   "id": "chronic-summit",
   "metadata": {},
   "source": [
    "## Challenge - Randomize an Iterable using Sorted!!"
   ]
  },
  {
   "cell_type": "markdown",
   "id": "three-jason",
   "metadata": {},
   "source": [
    "## Function Introspection"
   ]
  },
  {
   "cell_type": "markdown",
   "id": "extra-trust",
   "metadata": {},
   "source": [
    "## Callables"
   ]
  },
  {
   "cell_type": "markdown",
   "id": "normal-console",
   "metadata": {},
   "source": [
    "## Map, Filter, Zip and List Comprehensions"
   ]
  },
  {
   "cell_type": "markdown",
   "id": "functional-columbus",
   "metadata": {},
   "source": [
    "## Reducing Functions"
   ]
  },
  {
   "cell_type": "markdown",
   "id": "hispanic-appliance",
   "metadata": {},
   "source": [
    "## Partial Functions"
   ]
  },
  {
   "cell_type": "markdown",
   "id": "resident-gazette",
   "metadata": {},
   "source": [
    "## The operator Module"
   ]
  }
 ],
 "metadata": {
  "kernelspec": {
   "display_name": "Python 3",
   "language": "python",
   "name": "python3"
  },
  "language_info": {
   "codemirror_mode": {
    "name": "ipython",
    "version": 3
   },
   "file_extension": ".py",
   "mimetype": "text/x-python",
   "name": "python",
   "nbconvert_exporter": "python",
   "pygments_lexer": "ipython3",
   "version": "3.8.8"
  },
  "toc": {
   "base_numbering": 1,
   "nav_menu": {},
   "number_sections": true,
   "sideBar": true,
   "skip_h1_title": false,
   "title_cell": "Table of Contents",
   "title_sidebar": "Contents",
   "toc_cell": false,
   "toc_position": {},
   "toc_section_display": true,
   "toc_window_display": false
  }
 },
 "nbformat": 4,
 "nbformat_minor": 5
}
