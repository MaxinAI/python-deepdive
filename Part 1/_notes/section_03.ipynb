{
 "cells": [
  {
   "cell_type": "markdown",
   "id": "decimal-april",
   "metadata": {},
   "source": [
    "# Section 03 - Variables and Memory"
   ]
  },
  {
   "cell_type": "markdown",
   "id": "nutritional-blackjack",
   "metadata": {},
   "source": [
    "## Introduction"
   ]
  },
  {
   "cell_type": "code",
   "execution_count": 1,
   "id": "painted-increase",
   "metadata": {
    "ExecuteTime": {
     "end_time": "2021-04-01T15:22:42.627255Z",
     "start_time": "2021-04-01T15:22:42.608845Z"
    }
   },
   "outputs": [
    {
     "name": "stdout",
     "output_type": "stream",
     "text": [
      "Variables and Memory\n"
     ]
    }
   ],
   "source": [
    "print('Variables and Memory')"
   ]
  },
  {
   "cell_type": "markdown",
   "id": "muslim-shape",
   "metadata": {},
   "source": [
    "## Variables are Memory References"
   ]
  },
  {
   "cell_type": "markdown",
   "id": "separate-freedom",
   "metadata": {},
   "source": [
    "## Reference Counting"
   ]
  },
  {
   "cell_type": "markdown",
   "id": "artistic-honolulu",
   "metadata": {},
   "source": [
    "## Garbage Collection"
   ]
  },
  {
   "cell_type": "markdown",
   "id": "willing-client",
   "metadata": {},
   "source": [
    "## Dynamic vs Static Typing"
   ]
  },
  {
   "cell_type": "markdown",
   "id": "german-optimum",
   "metadata": {},
   "source": [
    "## Variable Re-Assignment"
   ]
  },
  {
   "cell_type": "markdown",
   "id": "finished-massage",
   "metadata": {},
   "source": [
    "## Object Mutability"
   ]
  },
  {
   "cell_type": "markdown",
   "id": "registered-boundary",
   "metadata": {},
   "source": [
    "## Function Arguments and Mutability"
   ]
  },
  {
   "cell_type": "markdown",
   "id": "extreme-terrorist",
   "metadata": {},
   "source": [
    "## Shared References and Mutability"
   ]
  },
  {
   "cell_type": "markdown",
   "id": "weird-cherry",
   "metadata": {},
   "source": [
    "## Variable Equality"
   ]
  },
  {
   "cell_type": "markdown",
   "id": "south-creation",
   "metadata": {},
   "source": [
    "## Everything is an Object"
   ]
  },
  {
   "cell_type": "markdown",
   "id": "looking-enhancement",
   "metadata": {},
   "source": [
    "## Python Optimizations: Interning"
   ]
  },
  {
   "cell_type": "markdown",
   "id": "legal-teens",
   "metadata": {},
   "source": [
    "## Python Optimizations: String Interning"
   ]
  },
  {
   "cell_type": "markdown",
   "id": "brilliant-print",
   "metadata": {},
   "source": [
    "## Python Optimizations: Peephole"
   ]
  }
 ],
 "metadata": {
  "kernelspec": {
   "display_name": "Python 3",
   "language": "python",
   "name": "python3"
  },
  "language_info": {
   "codemirror_mode": {
    "name": "ipython",
    "version": 3
   },
   "file_extension": ".py",
   "mimetype": "text/x-python",
   "name": "python",
   "nbconvert_exporter": "python",
   "pygments_lexer": "ipython3",
   "version": "3.8.8"
  },
  "toc": {
   "base_numbering": 1,
   "nav_menu": {},
   "number_sections": true,
   "sideBar": true,
   "skip_h1_title": false,
   "title_cell": "Table of Contents",
   "title_sidebar": "Contents",
   "toc_cell": false,
   "toc_position": {},
   "toc_section_display": true,
   "toc_window_display": true
  }
 },
 "nbformat": 4,
 "nbformat_minor": 5
}
